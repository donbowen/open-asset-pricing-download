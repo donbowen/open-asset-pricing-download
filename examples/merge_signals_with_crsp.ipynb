{
 "cells": [
  {
   "cell_type": "markdown",
   "metadata": {},
   "source": [
    "# Merge signals with CRSP\n",
    "Example of merging signals (a.k.a. firm-level characteristic) with CRSP monthly returns and construct portfolio sorts. The key is to lag the signals by one month. You'll need to have a WRDS account to download the CRSP returns."
   ]
  },
  {
   "cell_type": "code",
   "execution_count": 1,
   "metadata": {},
   "outputs": [
    {
     "name": "stdout",
     "output_type": "stream",
     "text": [
      "WRDS recommends setting up a .pgpass file.\n",
      "You can create this file yourself at any time with the create_pgpass_file() function.\n",
      "Loading library list...\n",
      "Done\n"
     ]
    }
   ],
   "source": [
    "# == Setup ==\n",
    "\n",
    "# load packages\n",
    "import pandas as pd\n",
    "import openassetpricing as oap\n",
    "import numpy as np\n",
    "import wrds\n",
    "from datetime import datetime\n",
    "\n",
    "# connect to WRDS\n",
    "wrds_conn = wrds.Connection()\n",
    "\n",
    "# initialize OpenAP\n",
    "openap = oap.OpenAP()\n",
    "\n",
    "# desired signal list\n",
    "signal_list = ['BM', 'AssetGrowth']"
   ]
  },
  {
   "cell_type": "markdown",
   "metadata": {},
   "source": [
    "# Download data\n",
    "\n",
    "Let's download select signals and a sample of CRSP returns."
   ]
  },
  {
   "cell_type": "code",
   "execution_count": 2,
   "metadata": {},
   "outputs": [
    {
     "name": "stdout",
     "output_type": "stream",
     "text": [
      "\n",
      "Data is downloaded: 14s\n"
     ]
    }
   ],
   "source": [
    "# download select signals\n",
    "signals = openap.dl_signal('pandas', signal_list)"
   ]
  },
  {
   "cell_type": "code",
   "execution_count": 3,
   "metadata": {},
   "outputs": [],
   "source": [
    "# download crsp returns\n",
    "# use 1980 to 1989 for quick dl and for similarity to original paper periods\n",
    "crsp = wrds_conn.raw_sql(\"\"\"select permno, date, ret*100 as ret\n",
    "                        from crsp.msf \n",
    "                        where date>='01/01/1980' and date<='12/31/1989'\"\"\", \n",
    "                     date_cols=['date'])"
   ]
  },
  {
   "cell_type": "markdown",
   "metadata": {},
   "source": [
    "# Lag signals and merge\n",
    "\n",
    "To lag signals, you can just add one month to the `yyyymm` column for the signals. For simplicity, let's fill in the day of the new variable `date` as the 28th (the signals are assumed to be available for trading at the end of the month). You can keep around `yyyymm` as `yyyymm_signals` for sanity checks. "
   ]
  },
  {
   "cell_type": "code",
   "execution_count": 4,
   "metadata": {},
   "outputs": [
    {
     "data": {
      "text/html": [
       "<div>\n",
       "<style scoped>\n",
       "    .dataframe tbody tr th:only-of-type {\n",
       "        vertical-align: middle;\n",
       "    }\n",
       "\n",
       "    .dataframe tbody tr th {\n",
       "        vertical-align: top;\n",
       "    }\n",
       "\n",
       "    .dataframe thead th {\n",
       "        text-align: right;\n",
       "    }\n",
       "</style>\n",
       "<table border=\"1\" class=\"dataframe\">\n",
       "  <thead>\n",
       "    <tr style=\"text-align: right;\">\n",
       "      <th></th>\n",
       "      <th>permno</th>\n",
       "      <th>yyyymm_signals</th>\n",
       "      <th>BM</th>\n",
       "      <th>AssetGrowth</th>\n",
       "      <th>date</th>\n",
       "    </tr>\n",
       "  </thead>\n",
       "  <tbody>\n",
       "    <tr>\n",
       "      <th>0</th>\n",
       "      <td>10000</td>\n",
       "      <td>198704</td>\n",
       "      <td>-2.895161</td>\n",
       "      <td>NaN</td>\n",
       "      <td>1987-05-28</td>\n",
       "    </tr>\n",
       "    <tr>\n",
       "      <th>1</th>\n",
       "      <td>10000</td>\n",
       "      <td>198705</td>\n",
       "      <td>-2.895161</td>\n",
       "      <td>NaN</td>\n",
       "      <td>1987-06-28</td>\n",
       "    </tr>\n",
       "    <tr>\n",
       "      <th>2</th>\n",
       "      <td>10001</td>\n",
       "      <td>198612</td>\n",
       "      <td>-0.104958</td>\n",
       "      <td>NaN</td>\n",
       "      <td>1987-01-28</td>\n",
       "    </tr>\n",
       "    <tr>\n",
       "      <th>3</th>\n",
       "      <td>10001</td>\n",
       "      <td>198701</td>\n",
       "      <td>-0.104958</td>\n",
       "      <td>NaN</td>\n",
       "      <td>1987-02-28</td>\n",
       "    </tr>\n",
       "    <tr>\n",
       "      <th>4</th>\n",
       "      <td>10001</td>\n",
       "      <td>198702</td>\n",
       "      <td>-0.104958</td>\n",
       "      <td>NaN</td>\n",
       "      <td>1987-03-28</td>\n",
       "    </tr>\n",
       "  </tbody>\n",
       "</table>\n",
       "</div>"
      ],
      "text/plain": [
       "   permno  yyyymm_signals        BM  AssetGrowth       date\n",
       "0   10000          198704 -2.895161          NaN 1987-05-28\n",
       "1   10000          198705 -2.895161          NaN 1987-06-28\n",
       "2   10001          198612 -0.104958          NaN 1987-01-28\n",
       "3   10001          198701 -0.104958          NaN 1987-02-28\n",
       "4   10001          198702 -0.104958          NaN 1987-03-28"
      ]
     },
     "execution_count": 4,
     "metadata": {},
     "output_type": "execute_result"
    }
   ],
   "source": [
    "# lag signals\n",
    "signals_lag = signals.copy()\n",
    "signals_lag = signals_lag.rename(columns={'yyyymm': 'yyyymm_signals'})\n",
    "signals_lag['date'] = pd.to_datetime(signals_lag['yyyymm_signals'].astype(str) + '28', format='%Y%m%d') + pd.DateOffset(months=1)\n",
    "\n",
    "signals_lag.head()"
   ]
  },
  {
   "cell_type": "markdown",
   "metadata": {},
   "source": [
    "To merge with monthly CRSP returns, convert the date to the 28th, and left join returns onto the lagged signals. This method preserves as much of the data as possible and makes missing data issues transparent. You should see that `date` is one month after `yyyymm_signals`."
   ]
  },
  {
   "cell_type": "code",
   "execution_count": 5,
   "metadata": {},
   "outputs": [
    {
     "data": {
      "text/html": [
       "<div>\n",
       "<style scoped>\n",
       "    .dataframe tbody tr th:only-of-type {\n",
       "        vertical-align: middle;\n",
       "    }\n",
       "\n",
       "    .dataframe tbody tr th {\n",
       "        vertical-align: top;\n",
       "    }\n",
       "\n",
       "    .dataframe thead th {\n",
       "        text-align: right;\n",
       "    }\n",
       "</style>\n",
       "<table border=\"1\" class=\"dataframe\">\n",
       "  <thead>\n",
       "    <tr style=\"text-align: right;\">\n",
       "      <th></th>\n",
       "      <th>permno</th>\n",
       "      <th>date</th>\n",
       "      <th>ret</th>\n",
       "      <th>yyyymm_signals</th>\n",
       "      <th>BM</th>\n",
       "      <th>AssetGrowth</th>\n",
       "    </tr>\n",
       "  </thead>\n",
       "  <tbody>\n",
       "    <tr>\n",
       "      <th>0</th>\n",
       "      <td>10006</td>\n",
       "      <td>1980-01-28</td>\n",
       "      <td>21.1679</td>\n",
       "      <td>197912.0</td>\n",
       "      <td>0.105462</td>\n",
       "      <td>0.173800</td>\n",
       "    </tr>\n",
       "    <tr>\n",
       "      <th>1</th>\n",
       "      <td>10057</td>\n",
       "      <td>1980-01-28</td>\n",
       "      <td>28.2297</td>\n",
       "      <td>197912.0</td>\n",
       "      <td>-0.043609</td>\n",
       "      <td>0.078283</td>\n",
       "    </tr>\n",
       "    <tr>\n",
       "      <th>2</th>\n",
       "      <td>10058</td>\n",
       "      <td>1980-01-28</td>\n",
       "      <td>0.0000</td>\n",
       "      <td>NaN</td>\n",
       "      <td>NaN</td>\n",
       "      <td>NaN</td>\n",
       "    </tr>\n",
       "    <tr>\n",
       "      <th>3</th>\n",
       "      <td>10065</td>\n",
       "      <td>1980-01-28</td>\n",
       "      <td>9.9216</td>\n",
       "      <td>NaN</td>\n",
       "      <td>NaN</td>\n",
       "      <td>NaN</td>\n",
       "    </tr>\n",
       "    <tr>\n",
       "      <th>4</th>\n",
       "      <td>10103</td>\n",
       "      <td>1980-01-28</td>\n",
       "      <td>8.3333</td>\n",
       "      <td>197912.0</td>\n",
       "      <td>1.027274</td>\n",
       "      <td>NaN</td>\n",
       "    </tr>\n",
       "  </tbody>\n",
       "</table>\n",
       "</div>"
      ],
      "text/plain": [
       "   permno       date      ret  yyyymm_signals        BM  AssetGrowth\n",
       "0   10006 1980-01-28  21.1679        197912.0  0.105462     0.173800\n",
       "1   10057 1980-01-28  28.2297        197912.0 -0.043609     0.078283\n",
       "2   10058 1980-01-28   0.0000             NaN       NaN          NaN\n",
       "3   10065 1980-01-28   9.9216             NaN       NaN          NaN\n",
       "4   10103 1980-01-28   8.3333        197912.0  1.027274          NaN"
      ]
     },
     "execution_count": 5,
     "metadata": {},
     "output_type": "execute_result"
    }
   ],
   "source": [
    "# convert crsp dates to the 28th of the month\n",
    "crsp['date'] = pd.to_datetime(crsp['date'].dt.strftime('%Y%m') + '28', format='%Y%m%d')\n",
    "\n",
    "# left join returns onto signals\n",
    "crsp_signals = pd.merge(crsp, signals_lag, on=['permno', 'date'], how='left')\n",
    "\n",
    "crsp_signals.head()"
   ]
  },
  {
   "cell_type": "markdown",
   "metadata": {},
   "source": [
    "# Sanity checks\n",
    "Let's check some magnitudes, make sure they're reasonable. Portfolio sorts are usually the best way to check this. First B/M:"
   ]
  },
  {
   "cell_type": "code",
   "execution_count": 6,
   "metadata": {},
   "outputs": [
    {
     "name": "stderr",
     "output_type": "stream",
     "text": [
      "C:\\Users\\ayc16\\AppData\\Local\\Temp\\ipykernel_20748\\3410025911.py:11: FutureWarning: The default of observed=False is deprecated and will be changed to True in a future version of pandas. Pass observed=False to retain current behavior or observed=True to adopt the future default and silence this warning.\n",
      "  port = temp.groupby(['date', 'port']).agg({\n",
      "C:\\Users\\ayc16\\AppData\\Local\\Temp\\ipykernel_20748\\3410025911.py:17: FutureWarning: The default of observed=False is deprecated and will be changed to True in a future version of pandas. Pass observed=False to retain current behavior or observed=True to adopt the future default and silence this warning.\n",
      "  port_summary = port.groupby('port').agg({\n"
     ]
    },
    {
     "data": {
      "text/html": [
       "<div>\n",
       "<style scoped>\n",
       "    .dataframe tbody tr th:only-of-type {\n",
       "        vertical-align: middle;\n",
       "    }\n",
       "\n",
       "    .dataframe tbody tr th {\n",
       "        vertical-align: top;\n",
       "    }\n",
       "\n",
       "    .dataframe thead tr th {\n",
       "        text-align: left;\n",
       "    }\n",
       "\n",
       "    .dataframe thead tr:last-of-type th {\n",
       "        text-align: right;\n",
       "    }\n",
       "</style>\n",
       "<table border=\"1\" class=\"dataframe\">\n",
       "  <thead>\n",
       "    <tr>\n",
       "      <th></th>\n",
       "      <th colspan=\"2\" halign=\"left\">ret</th>\n",
       "      <th>nstock</th>\n",
       "      <th colspan=\"2\" halign=\"left\">date</th>\n",
       "    </tr>\n",
       "    <tr>\n",
       "      <th></th>\n",
       "      <th>mean</th>\n",
       "      <th>std</th>\n",
       "      <th>mean</th>\n",
       "      <th>min</th>\n",
       "      <th>max</th>\n",
       "    </tr>\n",
       "    <tr>\n",
       "      <th>port</th>\n",
       "      <th></th>\n",
       "      <th></th>\n",
       "      <th></th>\n",
       "      <th></th>\n",
       "      <th></th>\n",
       "    </tr>\n",
       "  </thead>\n",
       "  <tbody>\n",
       "    <tr>\n",
       "      <th>1</th>\n",
       "      <td>0.392821</td>\n",
       "      <td>7.011399</td>\n",
       "      <td>840.391667</td>\n",
       "      <td>1980-01-28</td>\n",
       "      <td>1989-12-28</td>\n",
       "    </tr>\n",
       "    <tr>\n",
       "      <th>2</th>\n",
       "      <td>1.190261</td>\n",
       "      <td>6.036643</td>\n",
       "      <td>839.850000</td>\n",
       "      <td>1980-01-28</td>\n",
       "      <td>1989-12-28</td>\n",
       "    </tr>\n",
       "    <tr>\n",
       "      <th>3</th>\n",
       "      <td>1.480457</td>\n",
       "      <td>5.343920</td>\n",
       "      <td>839.775000</td>\n",
       "      <td>1980-01-28</td>\n",
       "      <td>1989-12-28</td>\n",
       "    </tr>\n",
       "    <tr>\n",
       "      <th>4</th>\n",
       "      <td>1.546331</td>\n",
       "      <td>4.788628</td>\n",
       "      <td>839.850000</td>\n",
       "      <td>1980-01-28</td>\n",
       "      <td>1989-12-28</td>\n",
       "    </tr>\n",
       "    <tr>\n",
       "      <th>5</th>\n",
       "      <td>1.822715</td>\n",
       "      <td>4.929924</td>\n",
       "      <td>840.233333</td>\n",
       "      <td>1980-01-28</td>\n",
       "      <td>1989-12-28</td>\n",
       "    </tr>\n",
       "  </tbody>\n",
       "</table>\n",
       "</div>"
      ],
      "text/plain": [
       "           ret                nstock       date           \n",
       "          mean       std        mean        min        max\n",
       "port                                                      \n",
       "1     0.392821  7.011399  840.391667 1980-01-28 1989-12-28\n",
       "2     1.190261  6.036643  839.850000 1980-01-28 1989-12-28\n",
       "3     1.480457  5.343920  839.775000 1980-01-28 1989-12-28\n",
       "4     1.546331  4.788628  839.850000 1980-01-28 1989-12-28\n",
       "5     1.822715  4.929924  840.233333 1980-01-28 1989-12-28"
      ]
     },
     "execution_count": 6,
     "metadata": {},
     "output_type": "execute_result"
    }
   ],
   "source": [
    "n = 5  # define the number of portfolios\n",
    "signalname = 'BM' # select signal\n",
    "\n",
    "# process signal data, assign to portfolios\n",
    "temp = crsp_signals[['permno', 'date', 'ret', signalname]].copy()\n",
    "temp['port'] = temp.groupby('date')[signalname].transform(\n",
    "    lambda x: pd.qcut(x, n, labels=list(range(1, n+1)))\n",
    ") \n",
    "\n",
    "# calculate number of stocks and mean return by date and portfolio\n",
    "port = temp.groupby(['date', 'port']).agg({\n",
    "    'permno': 'count',\n",
    "    'ret': 'mean'\n",
    "}).rename(columns={'permno': 'nstock'}).reset_index()\n",
    "\n",
    "# calculate mean return, sd return, and mean number of stocks by portfolio\n",
    "port_summary = port.groupby('port').agg({\n",
    "    'ret': ['mean', 'std'],\n",
    "    'nstock': 'mean',\n",
    "    'date': ['min', 'max']\n",
    "})\n",
    "\n",
    "port_summary"
   ]
  },
  {
   "cell_type": "markdown",
   "metadata": {},
   "source": [
    "So B/M long-short quintiles earned about 140 bps per month. This absurdly large, from a naive perspective. But these returns use tiny stocks (see the nstock count),  occur before the internet (see the date min and max), and are quite concentrated in the short leg (see return gap between ports 1 and 2). Overall, this magnitude matches what is found in the anomalies lit (McLean and Pontiff 2016; Chen and Zimmermann 2021, CFR)."
   ]
  },
  {
   "cell_type": "markdown",
   "metadata": {},
   "source": [
    "Now let's check on AssetGrowth"
   ]
  },
  {
   "cell_type": "code",
   "execution_count": 7,
   "metadata": {},
   "outputs": [
    {
     "name": "stderr",
     "output_type": "stream",
     "text": [
      "C:\\Users\\ayc16\\AppData\\Local\\Temp\\ipykernel_20748\\3804445172.py:11: FutureWarning: The default of observed=False is deprecated and will be changed to True in a future version of pandas. Pass observed=False to retain current behavior or observed=True to adopt the future default and silence this warning.\n",
      "  port = temp.groupby(['date', 'port']).agg({\n",
      "C:\\Users\\ayc16\\AppData\\Local\\Temp\\ipykernel_20748\\3804445172.py:17: FutureWarning: The default of observed=False is deprecated and will be changed to True in a future version of pandas. Pass observed=False to retain current behavior or observed=True to adopt the future default and silence this warning.\n",
      "  port_summary = port.groupby('port').agg({\n"
     ]
    },
    {
     "data": {
      "text/html": [
       "<div>\n",
       "<style scoped>\n",
       "    .dataframe tbody tr th:only-of-type {\n",
       "        vertical-align: middle;\n",
       "    }\n",
       "\n",
       "    .dataframe tbody tr th {\n",
       "        vertical-align: top;\n",
       "    }\n",
       "\n",
       "    .dataframe thead tr th {\n",
       "        text-align: left;\n",
       "    }\n",
       "\n",
       "    .dataframe thead tr:last-of-type th {\n",
       "        text-align: right;\n",
       "    }\n",
       "</style>\n",
       "<table border=\"1\" class=\"dataframe\">\n",
       "  <thead>\n",
       "    <tr>\n",
       "      <th></th>\n",
       "      <th colspan=\"2\" halign=\"left\">ret</th>\n",
       "      <th>nstock</th>\n",
       "      <th colspan=\"2\" halign=\"left\">date</th>\n",
       "    </tr>\n",
       "    <tr>\n",
       "      <th></th>\n",
       "      <th>mean</th>\n",
       "      <th>std</th>\n",
       "      <th>mean</th>\n",
       "      <th>min</th>\n",
       "      <th>max</th>\n",
       "    </tr>\n",
       "    <tr>\n",
       "      <th>port</th>\n",
       "      <th></th>\n",
       "      <th></th>\n",
       "      <th></th>\n",
       "      <th></th>\n",
       "      <th></th>\n",
       "    </tr>\n",
       "  </thead>\n",
       "  <tbody>\n",
       "    <tr>\n",
       "      <th>1</th>\n",
       "      <td>1.411934</td>\n",
       "      <td>6.068294</td>\n",
       "      <td>816.050000</td>\n",
       "      <td>1980-01-28</td>\n",
       "      <td>1989-12-28</td>\n",
       "    </tr>\n",
       "    <tr>\n",
       "      <th>2</th>\n",
       "      <td>1.616452</td>\n",
       "      <td>4.959080</td>\n",
       "      <td>815.483333</td>\n",
       "      <td>1980-01-28</td>\n",
       "      <td>1989-12-28</td>\n",
       "    </tr>\n",
       "    <tr>\n",
       "      <th>3</th>\n",
       "      <td>1.560212</td>\n",
       "      <td>4.714884</td>\n",
       "      <td>815.466667</td>\n",
       "      <td>1980-01-28</td>\n",
       "      <td>1989-12-28</td>\n",
       "    </tr>\n",
       "    <tr>\n",
       "      <th>4</th>\n",
       "      <td>1.405766</td>\n",
       "      <td>5.254997</td>\n",
       "      <td>815.483333</td>\n",
       "      <td>1980-01-28</td>\n",
       "      <td>1989-12-28</td>\n",
       "    </tr>\n",
       "    <tr>\n",
       "      <th>5</th>\n",
       "      <td>0.671774</td>\n",
       "      <td>6.426844</td>\n",
       "      <td>815.875000</td>\n",
       "      <td>1980-01-28</td>\n",
       "      <td>1989-12-28</td>\n",
       "    </tr>\n",
       "  </tbody>\n",
       "</table>\n",
       "</div>"
      ],
      "text/plain": [
       "           ret                nstock       date           \n",
       "          mean       std        mean        min        max\n",
       "port                                                      \n",
       "1     1.411934  6.068294  816.050000 1980-01-28 1989-12-28\n",
       "2     1.616452  4.959080  815.483333 1980-01-28 1989-12-28\n",
       "3     1.560212  4.714884  815.466667 1980-01-28 1989-12-28\n",
       "4     1.405766  5.254997  815.483333 1980-01-28 1989-12-28\n",
       "5     0.671774  6.426844  815.875000 1980-01-28 1989-12-28"
      ]
     },
     "execution_count": 7,
     "metadata": {},
     "output_type": "execute_result"
    }
   ],
   "source": [
    "n = 5  # define the number of portfolios\n",
    "signalname = 'AssetGrowth' # select signal\n",
    "\n",
    "# process signal data, assign to portfolios\n",
    "temp = crsp_signals[['permno', 'date', 'ret', signalname]].copy()\n",
    "temp['port'] = temp.groupby('date')[signalname].transform(\n",
    "    lambda x: pd.qcut(x, n, labels=list(range(1, n+1)))\n",
    ") \n",
    "\n",
    "# calculate number of stocks and mean return by date and portfolio\n",
    "port = temp.groupby(['date', 'port']).agg({\n",
    "    'permno': 'count',\n",
    "    'ret': 'mean'\n",
    "}).rename(columns={'permno': 'nstock'}).reset_index()\n",
    "\n",
    "# calculate mean return, sd return, and mean number of stocks by portfolio\n",
    "port_summary = port.groupby('port').agg({\n",
    "    'ret': ['mean', 'std'],\n",
    "    'nstock': 'mean',\n",
    "    'date': ['min', 'max']\n",
    "})\n",
    "\n",
    "port_summary"
   ]
  },
  {
   "cell_type": "markdown",
   "metadata": {},
   "source": [
    "Unlike B/M, high asset growth means *low* returns going forward (consistent with Cooper, Gulen, and Schill 2008). Thus, we see the descending pattern in the portfolio sort returns. The magnitude of 74 bps per month for going long-short is once again similar to the anomalies lit. And, as always you see the short leg is super critical. Nearly all of the returns are found by shorting portfolio 5---at least during the 1980s and in these tiny stocks."
   ]
  }
 ],
 "metadata": {
  "kernelspec": {
   "display_name": "openap-dl",
   "language": "python",
   "name": "python3"
  },
  "language_info": {
   "codemirror_mode": {
    "name": "ipython",
    "version": 3
   },
   "file_extension": ".py",
   "mimetype": "text/x-python",
   "name": "python",
   "nbconvert_exporter": "python",
   "pygments_lexer": "ipython3",
   "version": "3.11.4"
  }
 },
 "nbformat": 4,
 "nbformat_minor": 2
}
