{
 "cells": [
  {
   "cell_type": "code",
   "execution_count": 1,
   "metadata": {},
   "outputs": [],
   "source": [
    "##############################################################################\n",
    "### Examples to navigate Open Asset Pricing data:                          ###\n",
    "### Calculate average returns of investment  predictors and NYSE porfolios ###\n",
    "##############################################################################"
   ]
  },
  {
   "cell_type": "code",
   "execution_count": 2,
   "metadata": {},
   "outputs": [
    {
     "name": "stdout",
     "output_type": "stream",
     "text": [
      "Requirement already satisfied: openassetpricing in c:\\python312\\lib\\site-packages (0.0.1)\n",
      "Requirement already satisfied: polars in c:\\users\\test\\appdata\\roaming\\python\\python312\\site-packages (from openassetpricing) (1.5.0)\n",
      "Requirement already satisfied: pandas in c:\\users\\test\\appdata\\roaming\\python\\python312\\site-packages (from openassetpricing) (2.2.2)\n",
      "Requirement already satisfied: requests in c:\\users\\test\\appdata\\roaming\\python\\python312\\site-packages (from openassetpricing) (2.32.3)\n",
      "Requirement already satisfied: tabulate in c:\\users\\test\\appdata\\roaming\\python\\python312\\site-packages (from openassetpricing) (0.9.0)\n",
      "Requirement already satisfied: wrds in c:\\users\\test\\appdata\\roaming\\python\\python312\\site-packages (from openassetpricing) (3.2.0)\n",
      "Requirement already satisfied: pyarrow in c:\\python312\\lib\\site-packages (from openassetpricing) (17.0.0)\n",
      "Requirement already satisfied: beautifulsoup4 in c:\\python312\\lib\\site-packages (from openassetpricing) (4.12.3)\n",
      "Requirement already satisfied: soupsieve>1.2 in c:\\python312\\lib\\site-packages (from beautifulsoup4->openassetpricing) (2.6)\n",
      "Requirement already satisfied: numpy>=1.26.0 in c:\\users\\test\\appdata\\roaming\\python\\python312\\site-packages (from pandas->openassetpricing) (1.26.4)\n",
      "Requirement already satisfied: python-dateutil>=2.8.2 in c:\\users\\test\\appdata\\roaming\\python\\python312\\site-packages (from pandas->openassetpricing) (2.9.0.post0)\n",
      "Requirement already satisfied: pytz>=2020.1 in c:\\users\\test\\appdata\\roaming\\python\\python312\\site-packages (from pandas->openassetpricing) (2024.1)\n",
      "Requirement already satisfied: tzdata>=2022.7 in c:\\users\\test\\appdata\\roaming\\python\\python312\\site-packages (from pandas->openassetpricing) (2024.1)\n",
      "Requirement already satisfied: charset-normalizer<4,>=2 in c:\\users\\test\\appdata\\roaming\\python\\python312\\site-packages (from requests->openassetpricing) (3.3.2)\n",
      "Requirement already satisfied: idna<4,>=2.5 in c:\\users\\test\\appdata\\roaming\\python\\python312\\site-packages (from requests->openassetpricing) (3.7)\n",
      "Requirement already satisfied: urllib3<3,>=1.21.1 in c:\\users\\test\\appdata\\roaming\\python\\python312\\site-packages (from requests->openassetpricing) (2.2.2)\n",
      "Requirement already satisfied: certifi>=2017.4.17 in c:\\users\\test\\appdata\\roaming\\python\\python312\\site-packages (from requests->openassetpricing) (2024.7.4)\n",
      "Requirement already satisfied: packaging<23.3 in c:\\users\\test\\appdata\\roaming\\python\\python312\\site-packages (from wrds->openassetpricing) (23.2)\n",
      "Requirement already satisfied: psycopg2-binary<2.10,>=2.9 in c:\\users\\test\\appdata\\roaming\\python\\python312\\site-packages (from wrds->openassetpricing) (2.9.9)\n",
      "Requirement already satisfied: scipy<1.13,>=1.12 in c:\\users\\test\\appdata\\roaming\\python\\python312\\site-packages (from wrds->openassetpricing) (1.12.0)\n",
      "Requirement already satisfied: sqlalchemy<2.1,>=2 in c:\\users\\test\\appdata\\roaming\\python\\python312\\site-packages (from wrds->openassetpricing) (2.0.32)\n",
      "Requirement already satisfied: six>=1.5 in c:\\users\\test\\appdata\\roaming\\python\\python312\\site-packages (from python-dateutil>=2.8.2->pandas->openassetpricing) (1.16.0)\n",
      "Requirement already satisfied: typing-extensions>=4.6.0 in c:\\users\\test\\appdata\\roaming\\python\\python312\\site-packages (from sqlalchemy<2.1,>=2->wrds->openassetpricing) (4.12.2)\n",
      "Requirement already satisfied: greenlet!=0.4.17 in c:\\users\\test\\appdata\\roaming\\python\\python312\\site-packages (from sqlalchemy<2.1,>=2->wrds->openassetpricing) (3.0.3)\n",
      "Note: you may need to restart the kernel to use updated packages.\n"
     ]
    }
   ],
   "source": [
    "# Install the Open Asset Pricing library\n",
    "%pip install openassetpricing"
   ]
  },
  {
   "cell_type": "code",
   "execution_count": 4,
   "metadata": {},
   "outputs": [
    {
     "name": "stdout",
     "output_type": "stream",
     "text": [
      "2.2.2\n",
      "2.0.32\n",
      "3.2.0\n"
     ]
    }
   ],
   "source": [
    "import pandas as pd\n",
    "import sqlalchemy as sa\n",
    "import wrds\n",
    " \n",
    "print(pd.__version__)\n",
    "print(sa.__version__)\n",
    "print(wrds.__version__)"
   ]
  },
  {
   "cell_type": "code",
   "execution_count": 3,
   "metadata": {},
   "outputs": [],
   "source": [
    "# Set up environment\n",
    "import pandas as pd\n",
    "import numpy as np\n",
    "import openassetpricing as oap\n",
    "\n",
    "# Initialize OpenAP using the 2024 data release \n",
    "openap = oap.OpenAP(\"2024\")"
   ]
  },
  {
   "cell_type": "code",
   "execution_count": 4,
   "metadata": {},
   "outputs": [
    {
     "name": "stdout",
     "output_type": "stream",
     "text": [
      "┌─────────────────────────────────────────────────┬─────────────────────┐\n",
      "│ CZ data file                                    │ Name for download   │\n",
      "├─────────────────────────────────────────────────┼─────────────────────┤\n",
      "│ signed_predictors_dl_wide.zip                   │ char_predictors     │\n",
      "│ PredictorAltPorts_Deciles.zip                   │ port_deciles_ew     │\n",
      "│ PredictorAltPorts_DecilesVW.zip                 │ port_deciles_vw     │\n",
      "│ PredictorAltPorts_LiqScreen_ME_gt_NYSE20pct.zip │ port_ex_nyse_p20_me │\n",
      "│ PredictorAltPorts_LiqScreen_NYSEonly.zip        │ port_nyse           │\n",
      "│ PredictorAltPorts_LiqScreen_Price_gt_5.zip      │ port_ex_price5      │\n",
      "│ PredictorAltPorts_Quintiles.zip                 │ port_quintiles_ew   │\n",
      "│ PredictorAltPorts_QuintilesVW.zip               │ port_quintiles_vw   │\n",
      "│ PredictorPortsFull.csv                          │ port_op             │\n",
      "│ SignalDoc.csv                                   │ signal_doc          │\n",
      "└─────────────────────────────────────────────────┴─────────────────────┘\n"
     ]
    }
   ],
   "source": [
    "# View available datasets\n",
    "openap.list_datasets()"
   ]
  },
  {
   "cell_type": "code",
   "execution_count": 5,
   "metadata": {},
   "outputs": [
    {
     "name": "stdout",
     "output_type": "stream",
     "text": [
      "\n",
      "Data is downloaded: 2 mins\n"
     ]
    },
    {
     "data": {
      "text/html": [
       "<div>\n",
       "<style scoped>\n",
       "    .dataframe tbody tr th:only-of-type {\n",
       "        vertical-align: middle;\n",
       "    }\n",
       "\n",
       "    .dataframe tbody tr th {\n",
       "        vertical-align: top;\n",
       "    }\n",
       "\n",
       "    .dataframe thead th {\n",
       "        text-align: right;\n",
       "    }\n",
       "</style>\n",
       "<table border=\"1\" class=\"dataframe\">\n",
       "  <thead>\n",
       "    <tr style=\"text-align: right;\">\n",
       "      <th></th>\n",
       "      <th>signalname</th>\n",
       "      <th>port</th>\n",
       "      <th>date</th>\n",
       "      <th>ret</th>\n",
       "      <th>signallag</th>\n",
       "      <th>Nlong</th>\n",
       "      <th>Nshort</th>\n",
       "    </tr>\n",
       "  </thead>\n",
       "  <tbody>\n",
       "    <tr>\n",
       "      <th>0</th>\n",
       "      <td>AM</td>\n",
       "      <td>01</td>\n",
       "      <td>1951-07-31</td>\n",
       "      <td>7.661648</td>\n",
       "      <td>0.681619</td>\n",
       "      <td>67</td>\n",
       "      <td>0</td>\n",
       "    </tr>\n",
       "    <tr>\n",
       "      <th>1</th>\n",
       "      <td>AM</td>\n",
       "      <td>01</td>\n",
       "      <td>1951-08-31</td>\n",
       "      <td>4.273654</td>\n",
       "      <td>0.639816</td>\n",
       "      <td>67</td>\n",
       "      <td>0</td>\n",
       "    </tr>\n",
       "    <tr>\n",
       "      <th>2</th>\n",
       "      <td>AM</td>\n",
       "      <td>01</td>\n",
       "      <td>1951-09-28</td>\n",
       "      <td>1.315270</td>\n",
       "      <td>0.617079</td>\n",
       "      <td>67</td>\n",
       "      <td>0</td>\n",
       "    </tr>\n",
       "    <tr>\n",
       "      <th>3</th>\n",
       "      <td>AM</td>\n",
       "      <td>01</td>\n",
       "      <td>1951-10-31</td>\n",
       "      <td>-3.942987</td>\n",
       "      <td>0.612266</td>\n",
       "      <td>67</td>\n",
       "      <td>0</td>\n",
       "    </tr>\n",
       "    <tr>\n",
       "      <th>4</th>\n",
       "      <td>AM</td>\n",
       "      <td>01</td>\n",
       "      <td>1951-11-30</td>\n",
       "      <td>1.028675</td>\n",
       "      <td>0.637710</td>\n",
       "      <td>67</td>\n",
       "      <td>0</td>\n",
       "    </tr>\n",
       "  </tbody>\n",
       "</table>\n",
       "</div>"
      ],
      "text/plain": [
       "  signalname port       date       ret  signallag  Nlong  Nshort\n",
       "0         AM   01 1951-07-31  7.661648   0.681619     67       0\n",
       "1         AM   01 1951-08-31  4.273654   0.639816     67       0\n",
       "2         AM   01 1951-09-28  1.315270   0.617079     67       0\n",
       "3         AM   01 1951-10-31 -3.942987   0.612266     67       0\n",
       "4         AM   01 1951-11-30  1.028675   0.637710     67       0"
      ]
     },
     "execution_count": 5,
     "metadata": {},
     "output_type": "execute_result"
    }
   ],
   "source": [
    "# Download original (OP) version of the portfolios\n",
    "df = openap.dl('port_op', 'pandas')\n",
    "df.head()"
   ]
  },
  {
   "cell_type": "code",
   "execution_count": 6,
   "metadata": {},
   "outputs": [
    {
     "name": "stdout",
     "output_type": "stream",
     "text": [
      "\n",
      "Data is downloaded: 3s\n"
     ]
    },
    {
     "name": "stderr",
     "output_type": "stream",
     "text": [
      "C:\\Users\\test\\AppData\\Local\\Temp\\ipykernel_20404\\3224976927.py:9: SettingWithCopyWarning: \n",
      "A value is trying to be set on a copy of a slice from a DataFrame.\n",
      "Try using .loc[row_indexer,col_indexer] = value instead\n",
      "\n",
      "See the caveats in the documentation: https://pandas.pydata.org/pandas-docs/stable/user_guide/indexing.html#returning-a-view-versus-a-copy\n",
      "  df_predictor[\"LongDescription\"] = df_predictor[\"LongDescription\"].str.lower()\n"
     ]
    },
    {
     "data": {
      "text/html": [
       "<div>\n",
       "<style scoped>\n",
       "    .dataframe tbody tr th:only-of-type {\n",
       "        vertical-align: middle;\n",
       "    }\n",
       "\n",
       "    .dataframe tbody tr th {\n",
       "        vertical-align: top;\n",
       "    }\n",
       "\n",
       "    .dataframe thead th {\n",
       "        text-align: right;\n",
       "    }\n",
       "</style>\n",
       "<table border=\"1\" class=\"dataframe\">\n",
       "  <thead>\n",
       "    <tr style=\"text-align: right;\">\n",
       "      <th></th>\n",
       "      <th>Acronym</th>\n",
       "      <th>Authors</th>\n",
       "      <th>Year</th>\n",
       "      <th>Journal</th>\n",
       "      <th>LongDescription</th>\n",
       "    </tr>\n",
       "  </thead>\n",
       "  <tbody>\n",
       "    <tr>\n",
       "      <th>46</th>\n",
       "      <td>DelLTI</td>\n",
       "      <td>Richardson et al.</td>\n",
       "      <td>2005</td>\n",
       "      <td>JAE</td>\n",
       "      <td>change in long-term investment</td>\n",
       "    </tr>\n",
       "    <tr>\n",
       "      <th>89</th>\n",
       "      <td>Investment</td>\n",
       "      <td>Titman, Wei and Xie</td>\n",
       "      <td>2004</td>\n",
       "      <td>JFQA</td>\n",
       "      <td>investment to revenue</td>\n",
       "    </tr>\n",
       "    <tr>\n",
       "      <th>176</th>\n",
       "      <td>BrandInvest</td>\n",
       "      <td>Belo, Lin and Vitorino</td>\n",
       "      <td>2014</td>\n",
       "      <td>RED</td>\n",
       "      <td>brand capital investment</td>\n",
       "    </tr>\n",
       "  </tbody>\n",
       "</table>\n",
       "</div>"
      ],
      "text/plain": [
       "         Acronym                 Authors  Year Journal  \\\n",
       "46        DelLTI       Richardson et al.  2005     JAE   \n",
       "89    Investment     Titman, Wei and Xie  2004    JFQA   \n",
       "176  BrandInvest  Belo, Lin and Vitorino  2014     RED   \n",
       "\n",
       "                    LongDescription  \n",
       "46   change in long-term investment  \n",
       "89            investment to revenue  \n",
       "176        brand capital investment  "
      ]
     },
     "execution_count": 6,
     "metadata": {},
     "output_type": "execute_result"
    }
   ],
   "source": [
    "# 1. Check how investment predictors have performed in past 10 years: \n",
    "# 1.1 Use signal documentation to find investment predictors\n",
    "df1 = openap.dl('signal_doc', 'pandas')\n",
    "\n",
    "# Filter for \"Predictor\" in signals category\n",
    "df_predictor = df1[(df1[\"Cat.Signal\"] == \"Predictor\")]\n",
    "\n",
    "# Look for word \"investment\" in \"LongDescription\"\n",
    "df_predictor[\"LongDescription\"] = df_predictor[\"LongDescription\"].str.lower()\n",
    "search_term = \"investment\"\n",
    "bool_vector = pd.Series(df_predictor[\"LongDescription\"]).str.contains(search_term).tolist()\n",
    "true_indices2 = np.where(bool_vector)[0]\n",
    "\n",
    "# Keep only predictor signals related to investment\n",
    "df_predictor = df_predictor.iloc[true_indices2]\n",
    "\n",
    "# Extract names of investment predictors\n",
    "invest_pred_names = df_predictor[\"Acronym\"].tolist()\n",
    "\n",
    "# Describe characteristics of investment predictors\n",
    "invest_pred = df_predictor[[\"Acronym\", \"Authors\", \"Year\", \"Journal\", \"LongDescription\"]].copy()\n",
    "invest_pred"
   ]
  },
  {
   "cell_type": "code",
   "execution_count": 20,
   "metadata": {},
   "outputs": [
    {
     "name": "stdout",
     "output_type": "stream",
     "text": [
      "\n",
      "Data is downloaded: 18s\n",
      "signalname\n",
      "BrandInvest    0.521986\n",
      "DelLTI         0.552153\n",
      "Investment     0.876242\n",
      "Name: ret, dtype: float64\n"
     ]
    },
    {
     "name": "stderr",
     "output_type": "stream",
     "text": [
      "C:\\Users\\test\\AppData\\Local\\Temp\\ipykernel_16160\\751025204.py:7: SettingWithCopyWarning: \n",
      "A value is trying to be set on a copy of a slice from a DataFrame.\n",
      "Try using .loc[row_indexer,col_indexer] = value instead\n",
      "\n",
      "See the caveats in the documentation: https://pandas.pydata.org/pandas-docs/stable/user_guide/indexing.html#returning-a-view-versus-a-copy\n",
      "  filtered_df2[\"date\"] = pd.to_datetime(filtered_df2[\"date\"])\n"
     ]
    }
   ],
   "source": [
    "# 1.2 Filter for investment predictors in returns dataset\n",
    "df2 = openap.dl('port_op', 'pandas')\n",
    "filtered_df2 = df2[df2[\"signalname\"].isin(invest_pred_names)]\n",
    "\n",
    "# Filter for last 10 years\n",
    "filtered_df2[\"date\"] = pd.to_datetime(filtered_df2[\"date\"])\n",
    "filter_date = '2014-01-01'\n",
    "filtered_df2 = filtered_df2[filtered_df2[\"date\"] >= filter_date]\n",
    "\n",
    "# Calculate average returns by signal\n",
    "invest_pred_returns = filtered_df2.groupby('signalname')[\"ret\"].mean()\n",
    "print(invest_pred_returns)"
   ]
  },
  {
   "cell_type": "code",
   "execution_count": 21,
   "metadata": {},
   "outputs": [
    {
     "name": "stdout",
     "output_type": "stream",
     "text": [
      "\n",
      "Data is downloaded: 8s\n",
      "signalname\n",
      "AM                  1.005376\n",
      "AOP                 0.964989\n",
      "AbnormalAccruals    1.067322\n",
      "Accruals            1.071110\n",
      "AccrualsBM          1.060262\n",
      "                      ...   \n",
      "std_turn            1.158646\n",
      "tang                1.010259\n",
      "zerotrade12M        1.126181\n",
      "zerotrade1M         1.109966\n",
      "zerotrade6M         1.121755\n",
      "Name: ret, Length: 212, dtype: float64\n"
     ]
    }
   ],
   "source": [
    "# 2. Calculate portfolio performance under a specific liquidy screen\n",
    "# Open New York Stock Exchange (NYSE) portfolios dataset\n",
    "df3 = openap.dl('port_nyse', 'pandas')\n",
    "\n",
    "# Calculate average returns by signal\n",
    "nyse_mean_returns = df3.groupby('signalname')[\"ret\"].mean()\n",
    "print(nyse_mean_returns)"
   ]
  }
 ],
 "metadata": {
  "kernelspec": {
   "display_name": "Python 3",
   "language": "python",
   "name": "python3"
  },
  "language_info": {
   "codemirror_mode": {
    "name": "ipython",
    "version": 3
   },
   "file_extension": ".py",
   "mimetype": "text/x-python",
   "name": "python",
   "nbconvert_exporter": "python",
   "pygments_lexer": "ipython3",
   "version": "3.12.5"
  }
 },
 "nbformat": 4,
 "nbformat_minor": 2
}
